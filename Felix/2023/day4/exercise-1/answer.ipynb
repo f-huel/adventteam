{
 "cells": [
  {
   "cell_type": "code",
   "execution_count": null,
   "metadata": {},
   "outputs": [],
   "source": [
    "from google.colab import files\n",
    "uploaded = files.upload()\n",
    "\n",
    "import pandas as pd\n",
    "import numpy as np\n",
    "\n",
    "df = pd.read_csv(\"input.txt\", header=None, sep=\"\\s+\")\n",
    "margin = (df.iloc[0, :] == \"|\").idxmax()\n",
    "win = df.iloc[:, 2:margin].to_numpy()\n",
    "card = df.iloc[:, margin + 1 :].to_numpy()\n",
    "wins = np.array([np.sum(np.isin(win[i], card[i])) for i in range(win.shape[0])])\n",
    "wins = wins[wins != 0]\n",
    "print(np.sum(2 ** (wins - 1)))"
   ]
  }
 ],
 "metadata": {
  "language_info": {
   "name": "python"
  }
 },
 "nbformat": 4,
 "nbformat_minor": 2
}
