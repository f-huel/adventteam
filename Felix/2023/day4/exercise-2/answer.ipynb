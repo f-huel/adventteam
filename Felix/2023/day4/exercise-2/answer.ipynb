{
 "cells": [
  {
   "cell_type": "code",
   "execution_count": null,
   "metadata": {},
   "outputs": [],
   "source": [
    "from google.colab import files\n",
    "uploaded = files.upload()\n",
    "\n",
    "import pandas as pd\n",
    "import numpy as np\n",
    "\n",
    "df = pd.read_csv(\"input.txt\", header=None, sep=\"\\s+\")\n",
    "margin = (df.iloc[0, :] == \"|\").idxmax()\n",
    "win = df.iloc[:, 2:margin].to_numpy()\n",
    "card = df.iloc[:, margin + 1 :].to_numpy()\n",
    "wins = np.array([np.sum(np.isin(win[i], card[i])) for i in range(win.shape[0])])\n",
    "\n",
    "pile = [[wins[i]] for i in range(len(wins))]\n",
    "for i, cs in enumerate(pile):\n",
    "    for c in cs:\n",
    "        for j in range(c):\n",
    "            pile[i + j + 1].append(wins[i + j + 1])\n",
    "\n",
    "print(len([i for sl in pile for i in sl]))"
   ]
  }
 ],
 "metadata": {
  "language_info": {
   "name": "python"
  }
 },
 "nbformat": 4,
 "nbformat_minor": 2
}
